{
  "nbformat": 4,
  "nbformat_minor": 0,
  "metadata": {
    "colab": {
      "provenance": []
    },
    "kernelspec": {
      "name": "python3",
      "display_name": "Python 3"
    },
    "language_info": {
      "name": "python"
    }
  },
  "cells": [
    {
      "cell_type": "code",
      "source": [
        "pip install matplotlib"
      ],
      "metadata": {
        "colab": {
          "base_uri": "https://localhost:8080/"
        },
        "id": "AJgSQth73On4",
        "outputId": "ccade305-bf75-42b5-ced5-b3166482497a"
      },
      "execution_count": null,
      "outputs": [
        {
          "output_type": "stream",
          "name": "stdout",
          "text": [
            "Requirement already satisfied: matplotlib in /usr/local/lib/python3.10/dist-packages (3.7.1)\n",
            "Requirement already satisfied: contourpy>=1.0.1 in /usr/local/lib/python3.10/dist-packages (from matplotlib) (1.2.0)\n",
            "Requirement already satisfied: cycler>=0.10 in /usr/local/lib/python3.10/dist-packages (from matplotlib) (0.12.1)\n",
            "Requirement already satisfied: fonttools>=4.22.0 in /usr/local/lib/python3.10/dist-packages (from matplotlib) (4.48.1)\n",
            "Requirement already satisfied: kiwisolver>=1.0.1 in /usr/local/lib/python3.10/dist-packages (from matplotlib) (1.4.5)\n",
            "Requirement already satisfied: numpy>=1.20 in /usr/local/lib/python3.10/dist-packages (from matplotlib) (1.25.2)\n",
            "Requirement already satisfied: packaging>=20.0 in /usr/local/lib/python3.10/dist-packages (from matplotlib) (23.2)\n",
            "Requirement already satisfied: pillow>=6.2.0 in /usr/local/lib/python3.10/dist-packages (from matplotlib) (9.4.0)\n",
            "Requirement already satisfied: pyparsing>=2.3.1 in /usr/local/lib/python3.10/dist-packages (from matplotlib) (3.1.1)\n",
            "Requirement already satisfied: python-dateutil>=2.7 in /usr/local/lib/python3.10/dist-packages (from matplotlib) (2.8.2)\n",
            "Requirement already satisfied: six>=1.5 in /usr/local/lib/python3.10/dist-packages (from python-dateutil>=2.7->matplotlib) (1.16.0)\n"
          ]
        }
      ]
    },
    {
      "cell_type": "code",
      "source": [
        "import matplotlib.pyplot as plt\n",
        "\n",
        "# Ukuran Bendera\n",
        "width = 6\n",
        "height = 4\n",
        "\n",
        "# Membuat Bendera Belanda\n",
        "plt.figure(figsize=(width, height))\n",
        "\n",
        "# Warna Bendera Belanda\n",
        "colors = ['red', 'white', 'blue']\n",
        "\n",
        "# Membuat baris untuk setiap warna\n",
        "for i in range(len(colors)):\n",
        "    plt.barh(y=1, width=1, left=i, color=colors[i], edgecolor='black')\n",
        "\n",
        "# Menghilangkan sumbu\n",
        "plt.axis('off')\n",
        "\n",
        "# Menyembunyikan batas bingkai\n",
        "plt.box(False)\n",
        "\n",
        "# Menampilkan Bendera Belanda\n",
        "plt.show()\n"
      ],
      "metadata": {
        "colab": {
          "base_uri": "https://localhost:8080/",
          "height": 345
        },
        "id": "Y9XVUyck3YIS",
        "outputId": "6deec658-ded9-4b17-daab-c2ed61b82672"
      },
      "execution_count": null,
      "outputs": [
        {
          "output_type": "display_data",
          "data": {
            "text/plain": [
              "<Figure size 600x400 with 1 Axes>"
            ],
            "image/png": "[encoded data removed]"
          },
          "metadata": {}
        }
      ]
    },
    {
      "cell_type": "code",
      "source": [
        "import matplotlib.pyplot as plt\n",
        "\n",
        "# Membuat Bendera Belanda\n",
        "fig, ax = plt.subplots(figsize=(5, 5))  # Mengatur ukuran gambar menjadi 5x5\n",
        "\n",
        "# Warna Bendera Belanda\n",
        "colors = ['red', 'white', 'blue']\n",
        "bar_width = 1.0 / len(colors)\n",
        "\n",
        "# Membuat baris untuk setiap warna\n",
        "for i, color in enumerate(colors):\n",
        "    ax.barh(y=50, width=bar_width*100, left=i*bar_width*100, color=color)\n",
        "\n",
        "# Mengatur batas sumbu\n",
        "ax.set_xlim(0, 100)\n",
        "ax.set_ylim(0, 100)\n",
        "\n",
        "# Menghilangkan sumbu\n",
        "ax.axis('off')\n",
        "\n",
        "# Menyembunyikan batas bingkai\n",
        "plt.box(False)\n",
        "\n",
        "# Menampilkan Bendera Belanda\n",
        "plt.show()\n"
      ],
      "metadata": {
        "colab": {
          "base_uri": "https://localhost:8080/",
          "height": 422
        },
        "id": "nF_oq4Mg3hJJ",
        "outputId": "35baddf5-27ca-4e5f-a44f-21cc1c89a7b3"
      },
      "execution_count": null,
      "outputs": [
        {
          "output_type": "display_data",
          "data": {
            "text/plain": [
              "<Figure size 500x500 with 1 Axes>"
            ],
            "image/png": "[encoded data removed]"
          },
          "metadata": {}
        }
      ]
    },
    {
      "cell_type": "code",
      "source": [
        "import matplotlib.pyplot as plt\n",
        "\n",
        "# Membuat Bendera Belanda\n",
        "fig, ax = plt.subplots(figsize=(5, 5))  # Mengatur ukuran gambar menjadi 5x5\n",
        "\n",
        "# Warna Bendera Belanda\n",
        "colors = ['red', 'white', 'blue']\n",
        "bar_width = 1.0 / len(colors)\n",
        "\n",
        "# Membuat baris untuk setiap warna\n",
        "for i, color in enumerate(colors):\n",
        "    ax.barh(y=400, width=bar_width*100, left=i*bar_width*100 + 200, color=color)\n",
        "\n",
        "# Mengatur batas sumbu\n",
        "ax.set_xlim(0, 500)  # Mengubah batas sumbu x menjadi 500\n",
        "ax.set_ylim(0, 600)  # Mengubah batas sumbu y menjadi 600\n",
        "\n",
        "# Menghilangkan sumbu\n",
        "ax.axis('off')\n",
        "\n",
        "# Menyembunyikan batas bingkai\n",
        "plt.box(False)\n",
        "\n",
        "# Menampilkan Bendera Belanda\n",
        "plt.show()\n"
      ],
      "metadata": {
        "colab": {
          "base_uri": "https://localhost:8080/",
          "height": 422
        },
        "id": "gYjMeTLf31YS",
        "outputId": "552cbe1b-8b31-4c6c-887b-53763f1615a8"
      },
      "execution_count": null,
      "outputs": [
        {
          "output_type": "display_data",
          "data": {
            "text/plain": [
              "<Figure size 500x500 with 1 Axes>"
            ],
            "image/png": "[encoded data removed]"
          },
          "metadata": {}
        }
      ]
    },
    {
      "cell_type": "code",
      "source": [],
      "metadata": {
        "id": "3gfPZLWv4CiA"
      },
      "execution_count": null,
      "outputs": []
    }
  ]
}